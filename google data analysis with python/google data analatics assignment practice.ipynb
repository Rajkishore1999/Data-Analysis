
      "source": "import numpy as np \nimport pandas as pd \nimport tensorflow as tf\nimport matplotlib.pyplot as plt\n%matplotlib inline\nfrom patsy import dmatrices\nimport sklearn\nimport seaborn as sns\nimport os\nprint(os.getcwd())\npath=os.getcwd()\nos.listdir(path)",
         
      "source": "data=pd.read_csv(\"/drive/notebooks/ibm data.csv\")\ndata.head()\n",
    
      "source": "names = dataframe.columns.values \nprint(names)",
      
      "source": "# histogram for age\nimport matplotlib.pyplot as plt\nplt.figure(figsize=(10,8))\ndataframe['Age'].hist(bins=70)\nplt.title(\"Age distribution of Employees\")\nplt.xlabel(\"Age\")\nplt.ylabel(\"# of Employees\")\nplt.show()",
     
       "source": "# explore data for Attrition by Age\nplt.figure(figsize=(14,10))\nplt.scatter(dataframe.Attrition,dataframe.Age, alpha=.55)\nplt.title(\"Attrition by Age \")\nplt.ylabel(\"Age\")\nplt.grid(b=True, which='major',axis='y')\nplt.show()",
   
      "source": "# explore data for Left employees breakdown\nplt.figure(figsize=(7,6))\ndataframe.Attrition.value_counts().plot(kind='barh',color='blue',alpha=.65)\nplt.title(\"Attrition breakdown \")\nplt.show()",
      
        
      "source": "# explore data for Education Field distribution\nplt.figure(figsize=(12,3))\ndataframe.EducationField.value_counts().plot(kind='barh',color='b',alpha=.65)\nplt.title(\"Education Field Distribution\")\nplt.show()",
             "source": "# explore data for Marital Status\nplt.figure(figsize=(3,6))\ndataframe.MaritalStatus.value_counts().plot(kind='bar',alpha=.5)\nplt.show()",
    
      "source": "dataframe.describe()",
      

      "source": "dataframe.info()",
      
     
      "source": "dataframe.columns",
   
      "source": "dataframe.std()",
      
    
      "source": "dataframe['Attrition'].value_counts()",
      

      "source": "dataframe['Attrition'].dtypes",
      
      "source": "dataframe['Attrition'].replace('Yes',1, inplace=True)\ndataframe['Attrition'].replace('No',0, inplace=True)",
      
      "source": "dataframe.head(10)",

      "source": "# building up a logistic regression model\nX = dataframe.drop(['Attrition'],axis=1)\nX.head()\nY = dataframe['Attrition']\nY.head()",
     
      
     
      "source": "dataframe['EducationField'].replace('Life Sciences',1, inplace=True)\ndataframe['EducationField'].replace('Medical',2, inplace=True)\ndataframe['EducationField'].replace('Marketing', 3, inplace=True)\ndataframe['EducationField'].replace('Other',4, inplace=True)\ndataframe['EducationField'].replace('Technical Degree',5, inplace=True)\ndataframe['EducationField'].replace('Human Resources', 6, inplace=True)",
      
      "source": "dataframe['EducationField'].value_counts()",
      
       
      "source": "dataframe['Department'].value_counts()",
      
       
      "source": "dataframe['Department'].replace('Research & Development',1, inplace=True)\ndataframe['Department'].replace('Sales',2, inplace=True)\ndataframe['Department'].replace('Human Resources', 3, inplace=True)",
     
      "source": "dataframe['Department'].value_counts()",
      
    
      "source": "dataframe['MaritalStatus'].value_counts()",
      
    
      "source": "dataframe['MaritalStatus'].replace('Married',1, inplace=True)\ndataframe['MaritalStatus'].replace('Single',2, inplace=True)\ndataframe['MaritalStatus'].replace('Divorced',3, inplace=True)",
      
      "source": "dataframe['MaritalStatus'].value_counts()",
      
      "source": "x=dataframe.select_dtypes(include=['int64'])\nx.dtypes",
      
    
      "source": "x.columns",
     
      "source": "y=dataframe['Attrition']",
   
      "source": "y, x = dmatrices('Attrition ~ Age + Department + \\\n                  DistanceFromHome + Education + EducationField + YearsAtCompany',\n                  dataframe, return_type=\"dataframe\")\nprint (x.columns)",
     
      "source": "y = np.ravel(y)",
      
      "source": "from sklearn.linear_model import LogisticRegression\n\nmodel = LogisticRegression()\nmodel = model.fit(x, y)\n\n# check the accuracy on the training set\nmodel.score(x, y)",
      
      "source": "y.mean()",
    
      "source": "from sklearn.linear_model import LogisticRegression\n\nX_train,X_test,y_train,y_test=sklearn.model_selection.train_test_split(x,y, test_size=0.3, random_state=0)\nmodel2=LogisticRegression()\nmodel2.fit(X_train, y_train)",
    
     
      "source": "predicted= model2.predict(X_test)\nprint (predicted)",
      
